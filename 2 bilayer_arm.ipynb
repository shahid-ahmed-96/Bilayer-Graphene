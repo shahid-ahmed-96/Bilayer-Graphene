{
 "cells": [
  {
   "cell_type": "code",
   "execution_count": 1,
   "id": "006e4185",
   "metadata": {},
   "outputs": [],
   "source": [
    "import os\n",
    "import numpy as np\n",
    "import ase\n",
    "import ase.io\n",
    "import ase.build\n",
    "import ase.visualize\n",
    "import math\n",
    "from ase import Atoms\n",
    "from ase.build import cut\n",
    "from ase.build import stack\n",
    "from ase.build import rotate\n",
    "from ase.visualize import view"
   ]
  },
  {
   "cell_type": "code",
   "execution_count": 2,
   "id": "d852e26d",
   "metadata": {},
   "outputs": [],
   "source": [
    "a=1.42\n",
    "a1=(2*a*math.cos(math.pi/6))\n",
    "a2=3*a\n",
    "d=3.35"
   ]
  },
  {
   "cell_type": "code",
   "execution_count": 3,
   "id": "52d25422",
   "metadata": {},
   "outputs": [],
   "source": [
    "theta=np.linspace(0,30,16)\n",
    "lx = 100\n",
    "ly = 250\n",
    "\n",
    "for th in theta:    \n",
    "    atoms1=Atoms(\n",
    "    symbols='C4',\n",
    "    positions=[(0,0,0),(a1/2,a2/6,0),(a1/2,a2/2,0),(0,2*a2/3,0)],\n",
    "    cell=[(a1,0,0),(0,a2,0),(0,0,3.35)],\n",
    "    pbc=[1,0,0]\n",
    "    )\n",
    "    atoms2=Atoms(\n",
    "    symbols='N4',\n",
    "    positions=[(0,0,0),(a1/2,a2/6,0),(a1/2,a2/2,0),(0,2*a2/3,0)],\n",
    "    cell=[(a1,0,0),(0,a2,0),(0,0,3.35)],\n",
    "    pbc=[1,0,0]\n",
    "    )\n",
    "    \n",
    "    \n",
    "    \n",
    "    layer1=atoms1*[lx,ly,1]\n",
    "    layer2=atoms2*[3*lx,3*ly,1]\n",
    "    layer2.translate([-lx*a1,-ly*a2,d])\n",
    "    layer2.rotate(th,'z', center=(0,a,d), rotate_cell=False)\n",
    "    bilayer = layer1 + layer2\n",
    "    bilayer.rotate(-90,'z', center=(0,0,0), rotate_cell=False)\n",
    "\n",
    "    bilayer.translate([0,lx,0])\n",
    "    \n",
    "    pos = np.array(bilayer.get_positions())\n",
    "    indices = [atom.index for atom in bilayer]\n",
    "    del_index1 = []\n",
    "    del_index2 = []\n",
    "    del_index3 = []\n",
    "    del_index4 = []\n",
    "\n",
    "    for i in indices:\n",
    "        if pos[i][0]>ly:\n",
    "            del_index1.append(i)\n",
    "        if pos[i][0]<0:\n",
    "            del_index2.append(i)\n",
    "        if pos[i][1]>lx:\n",
    "            del_index3.append(i)\n",
    "        if pos[i][1]<0:\n",
    "            del_index4.append(i)\n",
    "            \n",
    "    del_index = del_index1+del_index2+del_index3+del_index4\n",
    "    del_index = [*set(del_index)] # Removes duplicates from the lists\n",
    "\n",
    "    del bilayer [del_index]\n",
    "    \n",
    "    bilayer.set_cell([ly,lx,15])\n",
    "    #view(bilayer)\n",
    "    ase.io.write('bilayer.%d.%d.%d.lammps-data'%(th,lx,ly),bilayer, format='lammps-data')"
   ]
  },
  {
   "cell_type": "code",
   "execution_count": null,
   "id": "795045a9",
   "metadata": {},
   "outputs": [],
   "source": []
  }
 ],
 "metadata": {
  "kernelspec": {
   "display_name": "Python 3 (ipykernel)",
   "language": "python",
   "name": "python3"
  },
  "language_info": {
   "codemirror_mode": {
    "name": "ipython",
    "version": 3
   },
   "file_extension": ".py",
   "mimetype": "text/x-python",
   "name": "python",
   "nbconvert_exporter": "python",
   "pygments_lexer": "ipython3",
   "version": "3.9.12"
  }
 },
 "nbformat": 4,
 "nbformat_minor": 5
}
